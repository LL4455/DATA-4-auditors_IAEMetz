{
  "nbformat": 4,
  "nbformat_minor": 0,
  "metadata": {
    "colab": {
      "provenance": [],
      "authorship_tag": "ABX9TyPbx3Ajl18kbsmqGlym+z1P",
      "include_colab_link": true
    },
    "kernelspec": {
      "name": "python3",
      "display_name": "Python 3"
    },
    "language_info": {
      "name": "python"
    }
  },
  "cells": [
    {
      "cell_type": "markdown",
      "metadata": {
        "id": "view-in-github",
        "colab_type": "text"
      },
      "source": [
        "<a href=\"https://colab.research.google.com/github/LL4455/DATA-4-auditors_IAEMetz/blob/main/IAE_METZ_TP1.ipynb\" target=\"_parent\"><img src=\"https://colab.research.google.com/assets/colab-badge.svg\" alt=\"Open In Colab\"/></a>"
      ]
    },
    {
      "cell_type": "code",
      "execution_count": null,
      "metadata": {
        "colab": {
          "base_uri": "https://localhost:8080/"
        },
        "id": "c4JTyZzdsWXA",
        "outputId": "4f8f79da-ec90-4c48-defc-aeeaa6bbcc26"
      },
      "outputs": [
        {
          "output_type": "stream",
          "name": "stdout",
          "text": [
            "Hello World!\n"
          ]
        }
      ],
      "source": [
        "# Introduction à Python\n",
        "\n",
        "print('Hello World!')"
      ]
    },
    {
      "cell_type": "markdown",
      "source": [
        "# Simple Example\n",
        "\n",
        "Nous allons voir les bases de Python ensemble\n"
      ],
      "metadata": {
        "id": "5wtinrnstHL_"
      }
    },
    {
      "cell_type": "code",
      "source": [
        "# On va définir des varaibles\n",
        "prenom='Matt' # est du texte c'est donc un STRING\n",
        "salaire_de_stage=1711 # C'est un entier naturelle\n",
        "salaire_net=1680.95 #FLOAT= chiffre à Virgule\n",
        "height='1.80'"
      ],
      "metadata": {
        "id": "Yif392TZtb63"
      },
      "execution_count": null,
      "outputs": []
    },
    {
      "cell_type": "code",
      "source": [
        "print(f\"Je m'appelle {prenom} et je gagnerai {salaire_de_stage} Euros\")"
      ],
      "metadata": {
        "colab": {
          "base_uri": "https://localhost:8080/"
        },
        "id": "tUdGckh_vxCx",
        "outputId": "204b0a8c-1f0e-4ee9-be79-7cb155290d4e"
      },
      "execution_count": null,
      "outputs": [
        {
          "output_type": "stream",
          "name": "stdout",
          "text": [
            "Je m'appelle Matt et je gagnerai 1711 Euros\n"
          ]
        }
      ]
    },
    {
      "cell_type": "code",
      "source": [
        "# ARITHMETIC +++\n",
        "debit1 = 157000\n",
        "debit2=1711\n",
        "credit = 157000"
      ],
      "metadata": {
        "id": "mSK6uOYzwkmT"
      },
      "execution_count": null,
      "outputs": []
    },
    {
      "cell_type": "code",
      "source": [
        "debit1+debit2"
      ],
      "metadata": {
        "colab": {
          "base_uri": "https://localhost:8080/"
        },
        "id": "JPetj70IxBWx",
        "outputId": "800e7a24-e48a-4fe6-e69c-ac2c39308534"
      },
      "execution_count": null,
      "outputs": [
        {
          "output_type": "execute_result",
          "data": {
            "text/plain": [
              "158711"
            ]
          },
          "metadata": {},
          "execution_count": 9
        }
      ]
    },
    {
      "cell_type": "code",
      "source": [
        "debit1,debit2"
      ],
      "metadata": {
        "colab": {
          "base_uri": "https://localhost:8080/"
        },
        "id": "OwsglC25xTI4",
        "outputId": "d308eb55-c3c4-4019-95e5-e9d20c1a53b1"
      },
      "execution_count": null,
      "outputs": [
        {
          "output_type": "execute_result",
          "data": {
            "text/plain": [
              "(157000, 1711)"
            ]
          },
          "metadata": {},
          "execution_count": 10
        }
      ]
    },
    {
      "cell_type": "code",
      "source": [
        "a= debit1\n",
        "b=debit2"
      ],
      "metadata": {
        "id": "dRpnWRrdxbZ9"
      },
      "execution_count": null,
      "outputs": []
    },
    {
      "cell_type": "code",
      "source": [
        "debit1,debit2\n",
        "print(f\"SUM: {debit1+debit2}, DELTA: {a-b}, Produit: {a*b}, Division: {a/b}\")"
      ],
      "metadata": {
        "colab": {
          "base_uri": "https://localhost:8080/"
        },
        "id": "cQloZeH3xjWM",
        "outputId": "3747664a-dbee-490a-86a2-4e8f0af83c43"
      },
      "execution_count": null,
      "outputs": [
        {
          "output_type": "stream",
          "name": "stdout",
          "text": [
            "SUM: 158711, DELTA: 155289, Produit: 268627000, Division: 91.75920514319111\n"
          ]
        }
      ]
    },
    {
      "cell_type": "code",
      "source": [
        "print(f\"Divsion Integer : {a//b}\")"
      ],
      "metadata": {
        "colab": {
          "base_uri": "https://localhost:8080/"
        },
        "id": "lOWWl4WLxxeU",
        "outputId": "9ea8366d-2ccc-435b-d3fc-6ee212232af6"
      },
      "execution_count": null,
      "outputs": [
        {
          "output_type": "stream",
          "name": "stdout",
          "text": [
            "Divsion Integer : 91\n"
          ]
        }
      ]
    },
    {
      "cell_type": "code",
      "source": [
        "# LIST ( et LISTE en Français)\n",
        "Banks=[\"BDL\",\"BGL\",\"BNP\",\"BIL\"]\n",
        "Banks[2]"
      ],
      "metadata": {
        "colab": {
          "base_uri": "https://localhost:8080/",
          "height": 36
        },
        "id": "o9C4qAkryfDf",
        "outputId": "c1013768-66d5-460b-d578-c24b211768d0"
      },
      "execution_count": null,
      "outputs": [
        {
          "output_type": "execute_result",
          "data": {
            "text/plain": [
              "'BNP'"
            ],
            "application/vnd.google.colaboratory.intrinsic+json": {
              "type": "string"
            }
          },
          "metadata": {},
          "execution_count": 19
        }
      ]
    },
    {
      "cell_type": "code",
      "source": [
        "#DICTIONNAIRE\n",
        "# Non- ordonné et PAIRES-CLE (Indexé de manière orthornmeé : 1,2,3 etc..)\n",
        "Valorisation= {\"nom\": \"Nike\",\"actif\":37, \"passif\": 34}"
      ],
      "metadata": {
        "id": "pGNlmrh9zHLA"
      },
      "execution_count": null,
      "outputs": []
    },
    {
      "cell_type": "code",
      "source": [
        "print(f\" La valorisation de {Valorisation['nom']} est d'un actif valorisé à {Valorisation['actif']} $ et d'un passif valorisé à {Valorisation['passif']} $ \")"
      ],
      "metadata": {
        "colab": {
          "base_uri": "https://localhost:8080/"
        },
        "id": "3x9yBR680AGM",
        "outputId": "85a4d025-4f71-49f0-ec86-96e76586ee0c"
      },
      "execution_count": null,
      "outputs": [
        {
          "output_type": "stream",
          "name": "stdout",
          "text": [
            " La valorisation de Nike est d'un actif valorisé à 37 $ et d'un passif valorisé à 34 $ \n"
          ]
        }
      ]
    },
    {
      "cell_type": "code",
      "source": [
        "#Indexé en clé-Valeur quand c'est une clé obligé de nommer le dictionniare et la collone que je veux\n",
        "print(f\"La valorisation de {Valorisation['nom']}\")"
      ],
      "metadata": {
        "colab": {
          "base_uri": "https://localhost:8080/"
        },
        "id": "UVqkQkiV0f5e",
        "outputId": "4296ec12-3034-4c54-8e64-17e7db5ec70e"
      },
      "execution_count": null,
      "outputs": [
        {
          "output_type": "stream",
          "name": "stdout",
          "text": [
            "La valorisation de Nike\n"
          ]
        }
      ]
    },
    {
      "cell_type": "markdown",
      "source": [
        "# Exemple pour les auditeurs\n",
        "## Etude de cas pour l'audit"
      ],
      "metadata": {
        "id": "m_s662bY7ZJQ"
      }
    },
    {
      "cell_type": "code",
      "source": [
        "# Cellule des variables\n",
        "revenus = 100000\n",
        "depenses=75000\n",
        "taux_imposition_francais= 0.25\n",
        "taux_imposition_luxembourgeois=0.17\n",
        "taux_imposition_irelande=0.125\n"
      ],
      "metadata": {
        "id": "5o_x2IDq7bLw"
      },
      "execution_count": null,
      "outputs": []
    },
    {
      "cell_type": "code",
      "source": [
        "# Cellule des calculs\n",
        "benefice = revenus-depenses\n",
        "impot_en_france = benefice* taux_imposition_francais\n",
        "impot_au_lux= taux_imposition_luxembourgeois*benefice\n",
        "impot_en_ire= taux_imposition_irelande*benefice\n",
        "benefice_net_fr=benefice-impot_en_france\n"
      ],
      "metadata": {
        "id": "1_BZ_-oB7W9q"
      },
      "execution_count": null,
      "outputs": []
    },
    {
      "cell_type": "code",
      "source": [
        "print(benefice)"
      ],
      "metadata": {
        "colab": {
          "base_uri": "https://localhost:8080/"
        },
        "id": "KZW-3wZ77P6W",
        "outputId": "c245e13c-7709-4508-d752-4ec29d51061b"
      },
      "execution_count": null,
      "outputs": [
        {
          "output_type": "stream",
          "name": "stdout",
          "text": [
            "25000\n"
          ]
        }
      ]
    },
    {
      "cell_type": "code",
      "source": [
        "# Cellule des check/Prints\n",
        "#[].[0] list\n",
        "#{dictonnaire['nom de varaible']}\n",
        "print(\"Impot à payer en France\",taux_imposition_francais * benefice,\"$\")\n"
      ],
      "metadata": {
        "colab": {
          "base_uri": "https://localhost:8080/"
        },
        "id": "BskzWknOLsQH",
        "outputId": "162012f7-1b16-4888-d442-5b236053b75b"
      },
      "execution_count": null,
      "outputs": [
        {
          "output_type": "stream",
          "name": "stdout",
          "text": [
            "Impot à payer en France 6750.0 $\n"
          ]
        }
      ]
    },
    {
      "cell_type": "code",
      "source": [
        "# Cellule des check/Prints\n",
        "print(\"Impot à payer en France\",impot_en_france ,\"$\")"
      ],
      "metadata": {
        "colab": {
          "base_uri": "https://localhost:8080/"
        },
        "id": "PFyKQzZzMl3M",
        "outputId": "a06fe5d6-faf8-4f7f-d7a7-083e747e88c4"
      },
      "execution_count": null,
      "outputs": [
        {
          "output_type": "stream",
          "name": "stdout",
          "text": [
            "Impot à payer en France 6750.0 $\n"
          ]
        }
      ]
    },
    {
      "cell_type": "code",
      "source": [
        "# comparaison entre ireland, luxembourg\n",
        "print(\"On compare au Luxembourg\",taux_imposition_luxembourgeois*benefice ,\"euros\", \"vs en ireland\", taux_imposition_irelande*benefice,\"euros\")"
      ],
      "metadata": {
        "colab": {
          "base_uri": "https://localhost:8080/"
        },
        "id": "kTG1OiEVNUer",
        "outputId": "e31aae31-4267-43c9-8ef1-7adf996b655d"
      },
      "execution_count": null,
      "outputs": [
        {
          "output_type": "stream",
          "name": "stdout",
          "text": [
            "On compare au Luxembourg 4250.0 euros vs en ireland 3125.0 euros\n"
          ]
        }
      ]
    },
    {
      "cell_type": "markdown",
      "source": [
        "# Structure de Contrôle"
      ],
      "metadata": {
        "id": "1WC6AJxfPPJ_"
      }
    },
    {
      "cell_type": "code",
      "source": [
        "# CONDITIONS (if,elif,else)\n",
        "if benefice_net_fr>0:\n",
        "  print(\"l'entreprise réalise un benefice net. Un bénéf de\", benefice_net_fr,\"euros\")\n",
        "elif benefice_net_fr==0:\n",
        "  print(\"L'entreprise est à l'équilibre.\")\n",
        "else:\n",
        "  print(\"L'entreprise réalise une perte nette.\")"
      ],
      "metadata": {
        "colab": {
          "base_uri": "https://localhost:8080/"
        },
        "id": "OiOwSr-HPWZh",
        "outputId": "d570d395-660f-438d-8610-08a630c7af83"
      },
      "execution_count": null,
      "outputs": [
        {
          "output_type": "stream",
          "name": "stdout",
          "text": [
            "l'entreprise réalise un benefice net. Un bénéf de 18750.0 euros\n"
          ]
        }
      ]
    },
    {
      "cell_type": "markdown",
      "source": [
        "#IMPORTATION DES BIBLIOTHEQUES\n",
        "##Les packages se differencient en deux grandes catégorie\n",
        "###1) Ceux \"outils\" , contenant des fonction\n",
        "###2) Ceux de données \"contenant des données/valeurs"
      ],
      "metadata": {
        "id": "SEtwi-npVqea"
      }
    },
    {
      "cell_type": "code",
      "source": [
        "# Le package d'outils le plus répendu en python est PANDAS (il y a aussi polars)\n",
        "import yfinance as yf"
      ],
      "metadata": {
        "id": "2NwL7iA4WTdi"
      },
      "execution_count": null,
      "outputs": []
    },
    {
      "cell_type": "code",
      "source": [
        "#BLOCK : Importation des packages\n",
        "import yfinance as yf\n",
        "import pandas as pd\n",
        "import matplotlib.pyplot as plt\n",
        "# Dans les packages \"outils\" vous pouvez sous selectionner le chapitre"
      ],
      "metadata": {
        "id": "sCKh6kpOWdfm"
      },
      "execution_count": null,
      "outputs": []
    },
    {
      "cell_type": "code",
      "source": [
        "#BLOCK : VARIABLES\n",
        "#POUR UNE COMPARAISON D4INDICES SELON LES PAYS\n",
        "france_symbol='EWQ' #iShares MSCI France ETF\n",
        "ireland_symbol='EWK' #ishares MSCI Ireland ETF\n",
        "luxembourg_symbol='SPY' #S&P 500 son ETF"
      ],
      "metadata": {
        "id": "iCgFWuQsWtp7"
      },
      "execution_count": null,
      "outputs": []
    },
    {
      "cell_type": "code",
      "source": [
        "#BLOCK : TIME FRAME\n",
        "start_date='2010-01-01'\n",
        "end_date='2025-01-01'"
      ],
      "metadata": {
        "id": "8HFsQYjrXXUL"
      },
      "execution_count": null,
      "outputs": []
    },
    {
      "cell_type": "code",
      "source": [
        "# Telerchargement des données historiques de Yfinace pour chaque pays\n",
        "france_data=yf.download(france_symbol,start=start_date,end=end_date)\n",
        "irelande_data=yf.download(ireland_symbol,start=start_date,end=end_date)\n",
        "lux_data=yf.download(luxembourg_symbol,start=start_date,end=end_date)"
      ],
      "metadata": {
        "colab": {
          "base_uri": "https://localhost:8080/"
        },
        "id": "qCejb-ReZqjW",
        "outputId": "c92146df-1b7c-41cf-ee2a-ec97db8ce249"
      },
      "execution_count": null,
      "outputs": [
        {
          "output_type": "stream",
          "name": "stdout",
          "text": [
            "YF.download() has changed argument auto_adjust default to True\n"
          ]
        },
        {
          "output_type": "stream",
          "name": "stderr",
          "text": [
            "[*********************100%***********************]  1 of 1 completed\n",
            "[*********************100%***********************]  1 of 1 completed\n",
            "[*********************100%***********************]  1 of 1 completed\n"
          ]
        }
      ]
    },
    {
      "cell_type": "code",
      "source": [
        "print(france_data)"
      ],
      "metadata": {
        "colab": {
          "base_uri": "https://localhost:8080/"
        },
        "id": "sgJ_RnkiaQeg",
        "outputId": "c9be34db-7d4f-407d-854d-c9149a08dfe2"
      },
      "execution_count": null,
      "outputs": [
        {
          "output_type": "stream",
          "name": "stdout",
          "text": [
            "Price           Close       High        Low       Open  Volume\n",
            "Ticker            EWQ        EWQ        EWQ        EWQ     EWQ\n",
            "Date                                                          \n",
            "2010-01-04  17.787542  17.827409  17.641361  17.641361   97400\n",
            "2010-01-05  17.741039  17.867285  17.674593  17.847353  164100\n",
            "2010-01-06  17.834068  17.840713  17.687888  17.734400  117300\n",
            "2010-01-07  17.754322  17.787546  17.634721  17.648009   87500\n",
            "2010-01-08  18.000177  18.006822  17.760972  17.787551  155400\n",
            "...               ...        ...        ...        ...     ...\n",
            "2024-12-24  35.970001  36.009998  35.619999  35.730000  187100\n",
            "2024-12-26  36.119999  36.200001  35.939999  35.959999  216600\n",
            "2024-12-27  36.060001  36.139999  35.900002  35.959999  758900\n",
            "2024-12-30  35.810001  35.910000  35.650002  35.900002  361400\n",
            "2024-12-31  35.880001  36.169998  35.799999  36.169998  401800\n",
            "\n",
            "[3774 rows x 5 columns]\n"
          ]
        }
      ]
    },
    {
      "cell_type": "code",
      "source": [
        "#BLOCK : ANALYSE DES DIAGRAME(EDA)\n",
        "#IL y a des jours férié donc il y a des valeurs nulles\n",
        "#France_data.isnull().sum()\n",
        "#DATA_FRAME.FUNCTION_NAME"
      ],
      "metadata": {
        "id": "oRe-dgYPa8eW"
      },
      "execution_count": null,
      "outputs": []
    },
    {
      "cell_type": "code",
      "source": [
        "# Calcul des rdt quotidiens pour chacun des fonds\n",
        "lux_return=lux_data.pct_change().dropna()\n",
        "irelande_return=irelande_data.pct_change().dropna()\n",
        "france_return=france_data.pct_change().dropna()"
      ],
      "metadata": {
        "id": "yHmo8xxwbd7A"
      },
      "execution_count": 11,
      "outputs": []
    },
    {
      "cell_type": "code",
      "source": [
        "# BLOCK : GRAPHIQUE\n",
        "#Presentation a des investisseurs des rdt via un DATAFRAME\n",
        "print(lux_data.head())\n",
        "print(irelande_data.head())\n",
        "print(france_data.head())"
      ],
      "metadata": {
        "colab": {
          "base_uri": "https://localhost:8080/"
        },
        "id": "sSMGzbbpd2t3",
        "outputId": "ad37ffed-04bc-4664-b2de-d4dea3e887ef"
      },
      "execution_count": 14,
      "outputs": [
        {
          "output_type": "stream",
          "name": "stdout",
          "text": [
            "Price           Close       High        Low       Open     Volume\n",
            "Ticker            SPY        SPY        SPY        SPY        SPY\n",
            "Date                                                             \n",
            "2010-01-04  86.026451  86.071994  84.644927  85.297736  118944600\n",
            "2010-01-05  86.254166  86.292122  85.662085  85.973310  111579900\n",
            "2010-01-06  86.314888  86.527429  86.102347  86.170661  116074400\n",
            "2010-01-07  86.679253  86.785523  85.912581  86.155486  131091100\n",
            "2010-01-08  86.967705  87.005661  86.276946  86.451531  126402800\n",
            "Price          Close      High       Low      Open  Volume\n",
            "Ticker           EWK       EWK       EWK       EWK     EWK\n",
            "Date                                                      \n",
            "2010-01-04  8.644102  8.729105  8.572176  8.572176  329400\n",
            "2010-01-05  8.748716  8.781410  8.683330  8.729101  451600\n",
            "2010-01-06  8.801024  8.801024  8.689867  8.689867   71800\n",
            "2010-01-07  8.742180  8.761796  8.696409  8.742180   46000\n",
            "2010-01-08  8.781411  8.801027  8.696409  8.696409  391700\n",
            "Price           Close       High        Low       Open  Volume\n",
            "Ticker            EWQ        EWQ        EWQ        EWQ     EWQ\n",
            "Date                                                          \n",
            "2010-01-04  17.787542  17.827409  17.641361  17.641361   97400\n",
            "2010-01-05  17.741039  17.867285  17.674593  17.847353  164100\n",
            "2010-01-06  17.834068  17.840713  17.687888  17.734400  117300\n",
            "2010-01-07  17.754322  17.787546  17.634721  17.648009   87500\n",
            "2010-01-08  18.000177  18.006822  17.760972  17.787551  155400\n"
          ]
        }
      ]
    },
    {
      "cell_type": "code",
      "source": [],
      "metadata": {
        "id": "94NXFKA9emtm"
      },
      "execution_count": null,
      "outputs": []
    }
  ]
}